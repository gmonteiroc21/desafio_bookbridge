{
  "nbformat": 4,
  "nbformat_minor": 0,
  "metadata": {
    "colab": {
      "provenance": []
    },
    "kernelspec": {
      "name": "python3",
      "display_name": "Python 3"
    },
    "language_info": {
      "name": "python"
    }
  },
  "cells": [
    {
      "cell_type": "code",
      "source": [
        "!git clone https://github.com/gmonteiroc21/desafio_bookbridge.git"
      ],
      "metadata": {
        "id": "aQ5t6EgW8wdX",
        "colab": {
          "base_uri": "https://localhost:8080/"
        },
        "outputId": "32bc549a-9d5a-4dc0-e601-28745530227e"
      },
      "execution_count": 1,
      "outputs": [
        {
          "output_type": "stream",
          "name": "stdout",
          "text": [
            "Cloning into 'desafio_bookbridge'...\n",
            "remote: Enumerating objects: 115, done.\u001b[K\n",
            "remote: Counting objects: 100% (115/115), done.\u001b[K\n",
            "remote: Compressing objects: 100% (111/111), done.\u001b[K\n",
            "remote: Total 115 (delta 52), reused 7 (delta 0), pack-reused 0 (from 0)\u001b[K\n",
            "Receiving objects: 100% (115/115), 53.47 KiB | 1.27 MiB/s, done.\n",
            "Resolving deltas: 100% (52/52), done.\n"
          ]
        }
      ]
    },
    {
      "cell_type": "code",
      "source": [
        "%cd desafio_bookbridge"
      ],
      "metadata": {
        "collapsed": true,
        "id": "-j4ibA4CVzSy",
        "colab": {
          "base_uri": "https://localhost:8080/"
        },
        "outputId": "cde6261e-05ce-478e-cbfd-b7291e704037"
      },
      "execution_count": 2,
      "outputs": [
        {
          "output_type": "stream",
          "name": "stdout",
          "text": [
            "/content/desafio_bookbridge\n"
          ]
        }
      ]
    },
    {
      "cell_type": "markdown",
      "source": [
        "###1- Importação e Limpeza"
      ],
      "metadata": {
        "id": "lZNRP8HaawZu"
      }
    },
    {
      "cell_type": "code",
      "source": [
        "#importação do dataset seguindo as instruções na pagina\n",
        "\n",
        "import kagglehub\n",
        "\n",
        "# Download latest version\n",
        "data_path = kagglehub.dataset_download(\"pypiahmad/goodreads-book-reviews1\")\n",
        "\n",
        "print(\"Path to dataset files:\", data_path)"
      ],
      "metadata": {
        "colab": {
          "base_uri": "https://localhost:8080/"
        },
        "id": "8MaGYVGr9i9U",
        "outputId": "5e5e1483-e64a-43bb-9373-fc962cf780d7"
      },
      "execution_count": 3,
      "outputs": [
        {
          "output_type": "stream",
          "name": "stdout",
          "text": [
            "Downloading from https://www.kaggle.com/api/v1/datasets/download/pypiahmad/goodreads-book-reviews1?dataset_version_number=1...\n"
          ]
        },
        {
          "output_type": "stream",
          "name": "stderr",
          "text": [
            "100%|██████████| 8.14G/8.14G [05:36<00:00, 26.0MB/s]\n"
          ]
        },
        {
          "output_type": "stream",
          "name": "stdout",
          "text": [
            "Extracting files...\n",
            "Path to dataset files: /root/.cache/kagglehub/datasets/pypiahmad/goodreads-book-reviews1/versions/1\n"
          ]
        }
      ]
    },
    {
      "cell_type": "code",
      "source": [
        "import pandas as pd\n",
        "import json\n",
        "import os\n",
        "import sys\n",
        "sys.path.append(os.path.abspath(\"scripts\"))\n",
        "from scripts.manipulating_data import *\n",
        "from scripts.data_analysis import *\n",
        "from scripts.data_preparation import *\n",
        "from scripts.recommender import *\n",
        "\n",
        "file_path = \"/root/.cache/kagglehub/datasets/pypiahmad/goodreads-book-reviews1/versions/1/\"\n"
      ],
      "metadata": {
        "id": "0fnvfZUUVlyg"
      },
      "execution_count": 20,
      "outputs": []
    },
    {
      "cell_type": "code",
      "source": [
        "#transforma as interações dos usuarios em um dataframe\n",
        "interactions_df = pd.read_csv(file_path+'goodreads_interactions.csv', nrows=20000000) #limita em  2M de linhas\n",
        "print(interactions_df.head(1))"
      ],
      "metadata": {
        "id": "y2jKoDxYZQ_B",
        "colab": {
          "base_uri": "https://localhost:8080/"
        },
        "outputId": "04d8186f-ce2d-4634-e22c-f4417ee3c22b"
      },
      "execution_count": 5,
      "outputs": [
        {
          "output_type": "stream",
          "name": "stdout",
          "text": [
            "   user_id  book_id  is_read  rating  is_reviewed\n",
            "0        0      948        1       5            0\n"
          ]
        }
      ]
    },
    {
      "cell_type": "code",
      "source": [
        "#transforma as informações dos livros em um dataframe\n",
        "books_df = select_books(file_path+'goodreads_books.json')\n",
        "print(books_df)\n"
      ],
      "metadata": {
        "id": "Fj7dtcXtlhM8",
        "colab": {
          "base_uri": "https://localhost:8080/"
        },
        "outputId": "b996e332-6270-4c20-f51b-b6115b20182b"
      },
      "execution_count": 7,
      "outputs": [
        {
          "output_type": "stream",
          "name": "stdout",
          "text": [
            "         book_id                                            authors  \\\n",
            "0        5333265              [{'author_id': '604031', 'role': ''}]   \n",
            "1        1333909              [{'author_id': '626222', 'role': ''}]   \n",
            "2        7327624               [{'author_id': '10333', 'role': ''}]   \n",
            "3        6066819                [{'author_id': '9212', 'role': ''}]   \n",
            "4         287140              [{'author_id': '149918', 'role': ''}]   \n",
            "...          ...                                                ...   \n",
            "199995  22027751               [{'author_id': '68900', 'role': ''}]   \n",
            "199996  22027750  [{'author_id': '205', 'role': ''}, {'author_id...   \n",
            "199997  26333472  [{'author_id': '9311365', 'role': 'Editor'}, {...   \n",
            "199998    839275               [{'author_id': '69826', 'role': ''}]   \n",
            "199999  10302363              [{'author_id': '133666', 'role': ''}]   \n",
            "\n",
            "                                                    title average_rating  \\\n",
            "0                             W.C. Fields: A Life on Film           4.00   \n",
            "1                                             Good Harbor           3.23   \n",
            "2       The Unschooled Wizard (Sun Wolf and Starhawk, ...           4.03   \n",
            "3                                    Best Friends Forever           3.49   \n",
            "4       Runic Astrology: Starcraft and Timekeeping in ...           3.40   \n",
            "...                                                   ...            ...   \n",
            "199995                      Depraved (Faces of Evil, #10)           4.42   \n",
            "199996                                     Двойная звезда           3.88   \n",
            "199997                                      SuperSonic #2           4.04   \n",
            "199998                              Across The Barricades           3.63   \n",
            "199999      Mother in a Moment/Millionaire's Instant Baby           3.62   \n",
            "\n",
            "       ratings_count num_pages publication_year text_reviews_count  \n",
            "0                  3       256             1984                  1  \n",
            "1                 10                       2001                  6  \n",
            "2                140       600             1987                  7  \n",
            "3              51184       368             2009               3282  \n",
            "4                 15                                             5  \n",
            "...              ...       ...              ...                ...  \n",
            "199995           217       300             2014                 36  \n",
            "199996            16       288             2008                  1  \n",
            "199997            28       353             2015                  9  \n",
            "199998            82       174             1995                  5  \n",
            "199999            11       504             2011                  1  \n",
            "\n",
            "[200000 rows x 8 columns]\n"
          ]
        }
      ]
    },
    {
      "cell_type": "code",
      "source": [
        "print(books_df)\n"
      ],
      "metadata": {
        "id": "BC8xA5crY_m6"
      },
      "execution_count": null,
      "outputs": []
    },
    {
      "cell_type": "code",
      "source": [
        "valid_books = interactions_df['book_id'].isin(books_df['book_id'])\n",
        "interactions_read = interactions_df[(interactions_df['is_read'] == 1) & valid_books]\n",
        "\n",
        "user_total_books = interactions_read.groupby('user_id').size().reset_index(name='user_total_books')\n",
        "\n",
        "print(user_total_books)"
      ],
      "metadata": {
        "id": "hpaPa7giy3hz"
      },
      "execution_count": null,
      "outputs": []
    },
    {
      "cell_type": "markdown",
      "source": [
        "tratamento do *books_df*"
      ],
      "metadata": {
        "id": "zTM16MtN18J7"
      }
    },
    {
      "cell_type": "code",
      "source": [
        "first_df = clean_empty_rows(books_df, 'book_id')\n",
        "\n",
        "'''books_df = duplicate_size(file_path+'goodreads_books.json', books_df, colunas_desejadas)'''\n",
        "\n",
        "books_df['average_rating'] = pd.to_numeric(first_df['average_rating'], errors='coerce')\n",
        "\n",
        "print(books_df.head(1))"
      ],
      "metadata": {
        "colab": {
          "base_uri": "https://localhost:8080/"
        },
        "id": "bOth40PUpxFB",
        "outputId": "6c317899-c37c-425d-886f-f46ba4b1a5a4"
      },
      "execution_count": 10,
      "outputs": [
        {
          "output_type": "stream",
          "name": "stdout",
          "text": [
            "   book_id                                authors  \\\n",
            "0  5333265  [{'author_id': '604031', 'role': ''}]   \n",
            "\n",
            "                         title  average_rating ratings_count num_pages  \\\n",
            "0  W.C. Fields: A Life on Film             4.0             3       256   \n",
            "\n",
            "  publication_year text_reviews_count  \n",
            "0             1984                  1  \n"
          ]
        }
      ]
    },
    {
      "cell_type": "code",
      "source": [
        "#transforma as informações dos autores em um dataframe\n",
        "authors_df = pd.read_json(file_path+'goodreads_book_authors.json', lines=True)\n",
        "print(authors_df.head(1))"
      ],
      "metadata": {
        "id": "E117bJgakQ8z"
      },
      "execution_count": null,
      "outputs": []
    },
    {
      "cell_type": "code",
      "source": [
        "#transforma as informações de generos em um dataframe\n",
        "genres_df = pd.read_json(file_path+'goodreads_book_genres_initial.json', lines=True)\n",
        "print(genres_df.head(10))\n"
      ],
      "metadata": {
        "colab": {
          "base_uri": "https://localhost:8080/"
        },
        "id": "7psEOCZpkWde",
        "outputId": "a61029a2-ba6a-4ea1-d740-af1ab184f9aa"
      },
      "execution_count": 6,
      "outputs": [
        {
          "output_type": "stream",
          "name": "stdout",
          "text": [
            "    book_id                                             genres\n",
            "0   5333265      {'history, historical fiction, biography': 1}\n",
            "1   1333909  {'fiction': 219, 'history, historical fiction,...\n",
            "2   7327624  {'fantasy, paranormal': 31, 'fiction': 8, 'mys...\n",
            "3   6066819  {'fiction': 555, 'romance': 23, 'mystery, thri...\n",
            "4    287140                                 {'non-fiction': 3}\n",
            "5    287141  {'history, historical fiction, biography': 9, ...\n",
            "6    378460                                     {'fiction': 2}\n",
            "7   6066812  {'fantasy, paranormal': 32, 'young-adult': 8, ...\n",
            "8  34883016                                     {'romance': 3}\n",
            "9    287149  {'non-fiction': 24, 'history, historical ficti...\n"
          ]
        }
      ]
    },
    {
      "cell_type": "code",
      "source": [
        "books_df = books_df.merge(\n",
        "    genres_df[['book_id', 'genres']],  # Seleciona apenas 'book_id' e 'genres'\n",
        "    on='book_id',  # A chave de junção\n",
        "    how='left'  # Mantém todos os livros, mesmo aqueles sem gênero\n",
        ")"
      ],
      "metadata": {
        "id": "qG-fYS3c1_s8"
      },
      "execution_count": null,
      "outputs": []
    },
    {
      "cell_type": "markdown",
      "source": [
        "### 2 - Análise exploratória e preparação dos dados para modelagem"
      ],
      "metadata": {
        "id": "Ql72nJUT7zSG"
      }
    },
    {
      "cell_type": "code",
      "source": [
        "unique_genres = ['history, historical fiction, biography', 'fiction', 'fantasy, paranormal'\n",
        " ,'mystery, thriller, crime', 'poetry', 'romance', 'non-fiction', 'children',\n",
        " 'young-adult', 'comics, graphic']\n"
      ],
      "metadata": {
        "id": "_nKypIXzffS9"
      },
      "execution_count": 8,
      "outputs": []
    },
    {
      "cell_type": "code",
      "source": [
        "genre_stats_df = genre_stats(genres_df, books_df, unique_genres)\n",
        "print(genre_stats_df)"
      ],
      "metadata": {
        "colab": {
          "base_uri": "https://localhost:8080/"
        },
        "id": "YacowJzqyan7",
        "outputId": "e0fe3362-b262-4a02-a4a8-9d007290a9c5"
      },
      "execution_count": 11,
      "outputs": [
        {
          "output_type": "stream",
          "name": "stdout",
          "text": [
            "         book_id                                  genres  average_rating  \\\n",
            "442139  23006706  history, historical fiction, biography             5.0   \n",
            "54752   16061666                                 fiction             5.0   \n",
            "79068   31344082                     fantasy, paranormal             5.0   \n",
            "221166  16127783                mystery, thriller, crime             5.0   \n",
            "259500  34372505                                  poetry             5.0   \n",
            "13971   36217797                                 romance             5.0   \n",
            "449618  35389399                             non-fiction             5.0   \n",
            "21167   36318802                                children             5.0   \n",
            "332132  25414737                             young-adult             5.0   \n",
            "118250  29004052                         comics, graphic             5.0   \n",
            "\n",
            "        ratings_count                                      title  \n",
            "442139             23                               Fate Twister  \n",
            "54752              13  Exploring the Garden with the Little Rose  \n",
            "79068              10                            Dark Attraction  \n",
            "221166             14    The Third Rule - Part Three: Sacrifices  \n",
            "259500             13                Confessions of a Wallflower  \n",
            "13971              11            Witch Wars (The Underlayes, #1)  \n",
            "449618             15   All About You. An Adopted Child's Memoir  \n",
            "21167              13                   Myrtle the Purple Turtle  \n",
            "332132             10         the boy with the thorn in his side  \n",
            "118250             14                      Venus Aqueous: Book 1  \n"
          ]
        }
      ]
    },
    {
      "cell_type": "code",
      "source": [
        "top_genre_per_user = calculate_top_genre_per_user(interactions_df, genres_df,books_df)\n",
        "print(top_genre_per_user.head(5))"
      ],
      "metadata": {
        "colab": {
          "base_uri": "https://localhost:8080/"
        },
        "id": "Xz2whruKtTpF",
        "outputId": "f99f9ba5-2aba-479a-bcf7-82018095baa3"
      },
      "execution_count": 12,
      "outputs": [
        {
          "output_type": "stream",
          "name": "stdout",
          "text": [
            "   user_id                          favorite_genre  genre_count  \\\n",
            "0        0                                 fiction           17   \n",
            "1        1  history, historical fiction, biography            3   \n",
            "2        2                                 fiction            3   \n",
            "3        3  history, historical fiction, biography            5   \n",
            "4        4                                 fiction            7   \n",
            "\n",
            "   total_books_read  \n",
            "0                21  \n",
            "1                 4  \n",
            "2                 5  \n",
            "3                 5  \n",
            "4                 9  \n"
          ]
        }
      ]
    },
    {
      "cell_type": "code",
      "source": [
        "print(top_genre_per_user.head(5))"
      ],
      "metadata": {
        "id": "_dW0p1CRRnsH"
      },
      "execution_count": null,
      "outputs": []
    },
    {
      "cell_type": "code",
      "source": [
        "user_literary_age = calculate_user_literary_age(interactions_df, books_df)\n",
        "user_literary_age"
      ],
      "metadata": {
        "id": "YXnezWU6G0L3",
        "colab": {
          "base_uri": "https://localhost:8080/",
          "height": 424
        },
        "outputId": "52d62c28-4f37-4bf9-e822-951160febe33"
      },
      "execution_count": 13,
      "outputs": [
        {
          "output_type": "execute_result",
          "data": {
            "text/plain": [
              "       user_id  70-  70-00  00+\n",
              "0            0    0      3   12\n",
              "1            1    0      0    3\n",
              "2            2    0      1    3\n",
              "3            3    1      3    1\n",
              "4            4    0      4    4\n",
              "...        ...  ...    ...  ...\n",
              "36587    39219    1      2    4\n",
              "36588    39220    0      2    7\n",
              "36589    39221    0      3    1\n",
              "36590    39222    0      2    0\n",
              "36591    39223    0      4    3\n",
              "\n",
              "[36592 rows x 4 columns]"
            ],
            "text/html": [
              "\n",
              "  <div id=\"df-5e8abad5-fdd7-40e3-8dc0-063a2828439d\" class=\"colab-df-container\">\n",
              "    <div>\n",
              "<style scoped>\n",
              "    .dataframe tbody tr th:only-of-type {\n",
              "        vertical-align: middle;\n",
              "    }\n",
              "\n",
              "    .dataframe tbody tr th {\n",
              "        vertical-align: top;\n",
              "    }\n",
              "\n",
              "    .dataframe thead th {\n",
              "        text-align: right;\n",
              "    }\n",
              "</style>\n",
              "<table border=\"1\" class=\"dataframe\">\n",
              "  <thead>\n",
              "    <tr style=\"text-align: right;\">\n",
              "      <th></th>\n",
              "      <th>user_id</th>\n",
              "      <th>70-</th>\n",
              "      <th>70-00</th>\n",
              "      <th>00+</th>\n",
              "    </tr>\n",
              "  </thead>\n",
              "  <tbody>\n",
              "    <tr>\n",
              "      <th>0</th>\n",
              "      <td>0</td>\n",
              "      <td>0</td>\n",
              "      <td>3</td>\n",
              "      <td>12</td>\n",
              "    </tr>\n",
              "    <tr>\n",
              "      <th>1</th>\n",
              "      <td>1</td>\n",
              "      <td>0</td>\n",
              "      <td>0</td>\n",
              "      <td>3</td>\n",
              "    </tr>\n",
              "    <tr>\n",
              "      <th>2</th>\n",
              "      <td>2</td>\n",
              "      <td>0</td>\n",
              "      <td>1</td>\n",
              "      <td>3</td>\n",
              "    </tr>\n",
              "    <tr>\n",
              "      <th>3</th>\n",
              "      <td>3</td>\n",
              "      <td>1</td>\n",
              "      <td>3</td>\n",
              "      <td>1</td>\n",
              "    </tr>\n",
              "    <tr>\n",
              "      <th>4</th>\n",
              "      <td>4</td>\n",
              "      <td>0</td>\n",
              "      <td>4</td>\n",
              "      <td>4</td>\n",
              "    </tr>\n",
              "    <tr>\n",
              "      <th>...</th>\n",
              "      <td>...</td>\n",
              "      <td>...</td>\n",
              "      <td>...</td>\n",
              "      <td>...</td>\n",
              "    </tr>\n",
              "    <tr>\n",
              "      <th>36587</th>\n",
              "      <td>39219</td>\n",
              "      <td>1</td>\n",
              "      <td>2</td>\n",
              "      <td>4</td>\n",
              "    </tr>\n",
              "    <tr>\n",
              "      <th>36588</th>\n",
              "      <td>39220</td>\n",
              "      <td>0</td>\n",
              "      <td>2</td>\n",
              "      <td>7</td>\n",
              "    </tr>\n",
              "    <tr>\n",
              "      <th>36589</th>\n",
              "      <td>39221</td>\n",
              "      <td>0</td>\n",
              "      <td>3</td>\n",
              "      <td>1</td>\n",
              "    </tr>\n",
              "    <tr>\n",
              "      <th>36590</th>\n",
              "      <td>39222</td>\n",
              "      <td>0</td>\n",
              "      <td>2</td>\n",
              "      <td>0</td>\n",
              "    </tr>\n",
              "    <tr>\n",
              "      <th>36591</th>\n",
              "      <td>39223</td>\n",
              "      <td>0</td>\n",
              "      <td>4</td>\n",
              "      <td>3</td>\n",
              "    </tr>\n",
              "  </tbody>\n",
              "</table>\n",
              "<p>36592 rows × 4 columns</p>\n",
              "</div>\n",
              "    <div class=\"colab-df-buttons\">\n",
              "\n",
              "  <div class=\"colab-df-container\">\n",
              "    <button class=\"colab-df-convert\" onclick=\"convertToInteractive('df-5e8abad5-fdd7-40e3-8dc0-063a2828439d')\"\n",
              "            title=\"Convert this dataframe to an interactive table.\"\n",
              "            style=\"display:none;\">\n",
              "\n",
              "  <svg xmlns=\"http://www.w3.org/2000/svg\" height=\"24px\" viewBox=\"0 -960 960 960\">\n",
              "    <path d=\"M120-120v-720h720v720H120Zm60-500h600v-160H180v160Zm220 220h160v-160H400v160Zm0 220h160v-160H400v160ZM180-400h160v-160H180v160Zm440 0h160v-160H620v160ZM180-180h160v-160H180v160Zm440 0h160v-160H620v160Z\"/>\n",
              "  </svg>\n",
              "    </button>\n",
              "\n",
              "  <style>\n",
              "    .colab-df-container {\n",
              "      display:flex;\n",
              "      gap: 12px;\n",
              "    }\n",
              "\n",
              "    .colab-df-convert {\n",
              "      background-color: #E8F0FE;\n",
              "      border: none;\n",
              "      border-radius: 50%;\n",
              "      cursor: pointer;\n",
              "      display: none;\n",
              "      fill: #1967D2;\n",
              "      height: 32px;\n",
              "      padding: 0 0 0 0;\n",
              "      width: 32px;\n",
              "    }\n",
              "\n",
              "    .colab-df-convert:hover {\n",
              "      background-color: #E2EBFA;\n",
              "      box-shadow: 0px 1px 2px rgba(60, 64, 67, 0.3), 0px 1px 3px 1px rgba(60, 64, 67, 0.15);\n",
              "      fill: #174EA6;\n",
              "    }\n",
              "\n",
              "    .colab-df-buttons div {\n",
              "      margin-bottom: 4px;\n",
              "    }\n",
              "\n",
              "    [theme=dark] .colab-df-convert {\n",
              "      background-color: #3B4455;\n",
              "      fill: #D2E3FC;\n",
              "    }\n",
              "\n",
              "    [theme=dark] .colab-df-convert:hover {\n",
              "      background-color: #434B5C;\n",
              "      box-shadow: 0px 1px 3px 1px rgba(0, 0, 0, 0.15);\n",
              "      filter: drop-shadow(0px 1px 2px rgba(0, 0, 0, 0.3));\n",
              "      fill: #FFFFFF;\n",
              "    }\n",
              "  </style>\n",
              "\n",
              "    <script>\n",
              "      const buttonEl =\n",
              "        document.querySelector('#df-5e8abad5-fdd7-40e3-8dc0-063a2828439d button.colab-df-convert');\n",
              "      buttonEl.style.display =\n",
              "        google.colab.kernel.accessAllowed ? 'block' : 'none';\n",
              "\n",
              "      async function convertToInteractive(key) {\n",
              "        const element = document.querySelector('#df-5e8abad5-fdd7-40e3-8dc0-063a2828439d');\n",
              "        const dataTable =\n",
              "          await google.colab.kernel.invokeFunction('convertToInteractive',\n",
              "                                                    [key], {});\n",
              "        if (!dataTable) return;\n",
              "\n",
              "        const docLinkHtml = 'Like what you see? Visit the ' +\n",
              "          '<a target=\"_blank\" href=https://colab.research.google.com/notebooks/data_table.ipynb>data table notebook</a>'\n",
              "          + ' to learn more about interactive tables.';\n",
              "        element.innerHTML = '';\n",
              "        dataTable['output_type'] = 'display_data';\n",
              "        await google.colab.output.renderOutput(dataTable, element);\n",
              "        const docLink = document.createElement('div');\n",
              "        docLink.innerHTML = docLinkHtml;\n",
              "        element.appendChild(docLink);\n",
              "      }\n",
              "    </script>\n",
              "  </div>\n",
              "\n",
              "\n",
              "<div id=\"df-2836e514-65ba-49fe-9968-4bd36f501144\">\n",
              "  <button class=\"colab-df-quickchart\" onclick=\"quickchart('df-2836e514-65ba-49fe-9968-4bd36f501144')\"\n",
              "            title=\"Suggest charts\"\n",
              "            style=\"display:none;\">\n",
              "\n",
              "<svg xmlns=\"http://www.w3.org/2000/svg\" height=\"24px\"viewBox=\"0 0 24 24\"\n",
              "     width=\"24px\">\n",
              "    <g>\n",
              "        <path d=\"M19 3H5c-1.1 0-2 .9-2 2v14c0 1.1.9 2 2 2h14c1.1 0 2-.9 2-2V5c0-1.1-.9-2-2-2zM9 17H7v-7h2v7zm4 0h-2V7h2v10zm4 0h-2v-4h2v4z\"/>\n",
              "    </g>\n",
              "</svg>\n",
              "  </button>\n",
              "\n",
              "<style>\n",
              "  .colab-df-quickchart {\n",
              "      --bg-color: #E8F0FE;\n",
              "      --fill-color: #1967D2;\n",
              "      --hover-bg-color: #E2EBFA;\n",
              "      --hover-fill-color: #174EA6;\n",
              "      --disabled-fill-color: #AAA;\n",
              "      --disabled-bg-color: #DDD;\n",
              "  }\n",
              "\n",
              "  [theme=dark] .colab-df-quickchart {\n",
              "      --bg-color: #3B4455;\n",
              "      --fill-color: #D2E3FC;\n",
              "      --hover-bg-color: #434B5C;\n",
              "      --hover-fill-color: #FFFFFF;\n",
              "      --disabled-bg-color: #3B4455;\n",
              "      --disabled-fill-color: #666;\n",
              "  }\n",
              "\n",
              "  .colab-df-quickchart {\n",
              "    background-color: var(--bg-color);\n",
              "    border: none;\n",
              "    border-radius: 50%;\n",
              "    cursor: pointer;\n",
              "    display: none;\n",
              "    fill: var(--fill-color);\n",
              "    height: 32px;\n",
              "    padding: 0;\n",
              "    width: 32px;\n",
              "  }\n",
              "\n",
              "  .colab-df-quickchart:hover {\n",
              "    background-color: var(--hover-bg-color);\n",
              "    box-shadow: 0 1px 2px rgba(60, 64, 67, 0.3), 0 1px 3px 1px rgba(60, 64, 67, 0.15);\n",
              "    fill: var(--button-hover-fill-color);\n",
              "  }\n",
              "\n",
              "  .colab-df-quickchart-complete:disabled,\n",
              "  .colab-df-quickchart-complete:disabled:hover {\n",
              "    background-color: var(--disabled-bg-color);\n",
              "    fill: var(--disabled-fill-color);\n",
              "    box-shadow: none;\n",
              "  }\n",
              "\n",
              "  .colab-df-spinner {\n",
              "    border: 2px solid var(--fill-color);\n",
              "    border-color: transparent;\n",
              "    border-bottom-color: var(--fill-color);\n",
              "    animation:\n",
              "      spin 1s steps(1) infinite;\n",
              "  }\n",
              "\n",
              "  @keyframes spin {\n",
              "    0% {\n",
              "      border-color: transparent;\n",
              "      border-bottom-color: var(--fill-color);\n",
              "      border-left-color: var(--fill-color);\n",
              "    }\n",
              "    20% {\n",
              "      border-color: transparent;\n",
              "      border-left-color: var(--fill-color);\n",
              "      border-top-color: var(--fill-color);\n",
              "    }\n",
              "    30% {\n",
              "      border-color: transparent;\n",
              "      border-left-color: var(--fill-color);\n",
              "      border-top-color: var(--fill-color);\n",
              "      border-right-color: var(--fill-color);\n",
              "    }\n",
              "    40% {\n",
              "      border-color: transparent;\n",
              "      border-right-color: var(--fill-color);\n",
              "      border-top-color: var(--fill-color);\n",
              "    }\n",
              "    60% {\n",
              "      border-color: transparent;\n",
              "      border-right-color: var(--fill-color);\n",
              "    }\n",
              "    80% {\n",
              "      border-color: transparent;\n",
              "      border-right-color: var(--fill-color);\n",
              "      border-bottom-color: var(--fill-color);\n",
              "    }\n",
              "    90% {\n",
              "      border-color: transparent;\n",
              "      border-bottom-color: var(--fill-color);\n",
              "    }\n",
              "  }\n",
              "</style>\n",
              "\n",
              "  <script>\n",
              "    async function quickchart(key) {\n",
              "      const quickchartButtonEl =\n",
              "        document.querySelector('#' + key + ' button');\n",
              "      quickchartButtonEl.disabled = true;  // To prevent multiple clicks.\n",
              "      quickchartButtonEl.classList.add('colab-df-spinner');\n",
              "      try {\n",
              "        const charts = await google.colab.kernel.invokeFunction(\n",
              "            'suggestCharts', [key], {});\n",
              "      } catch (error) {\n",
              "        console.error('Error during call to suggestCharts:', error);\n",
              "      }\n",
              "      quickchartButtonEl.classList.remove('colab-df-spinner');\n",
              "      quickchartButtonEl.classList.add('colab-df-quickchart-complete');\n",
              "    }\n",
              "    (() => {\n",
              "      let quickchartButtonEl =\n",
              "        document.querySelector('#df-2836e514-65ba-49fe-9968-4bd36f501144 button');\n",
              "      quickchartButtonEl.style.display =\n",
              "        google.colab.kernel.accessAllowed ? 'block' : 'none';\n",
              "    })();\n",
              "  </script>\n",
              "</div>\n",
              "\n",
              "  <div id=\"id_9b11ff43-bc9e-4349-ad74-19d1d90c4384\">\n",
              "    <style>\n",
              "      .colab-df-generate {\n",
              "        background-color: #E8F0FE;\n",
              "        border: none;\n",
              "        border-radius: 50%;\n",
              "        cursor: pointer;\n",
              "        display: none;\n",
              "        fill: #1967D2;\n",
              "        height: 32px;\n",
              "        padding: 0 0 0 0;\n",
              "        width: 32px;\n",
              "      }\n",
              "\n",
              "      .colab-df-generate:hover {\n",
              "        background-color: #E2EBFA;\n",
              "        box-shadow: 0px 1px 2px rgba(60, 64, 67, 0.3), 0px 1px 3px 1px rgba(60, 64, 67, 0.15);\n",
              "        fill: #174EA6;\n",
              "      }\n",
              "\n",
              "      [theme=dark] .colab-df-generate {\n",
              "        background-color: #3B4455;\n",
              "        fill: #D2E3FC;\n",
              "      }\n",
              "\n",
              "      [theme=dark] .colab-df-generate:hover {\n",
              "        background-color: #434B5C;\n",
              "        box-shadow: 0px 1px 3px 1px rgba(0, 0, 0, 0.15);\n",
              "        filter: drop-shadow(0px 1px 2px rgba(0, 0, 0, 0.3));\n",
              "        fill: #FFFFFF;\n",
              "      }\n",
              "    </style>\n",
              "    <button class=\"colab-df-generate\" onclick=\"generateWithVariable('user_literary_age')\"\n",
              "            title=\"Generate code using this dataframe.\"\n",
              "            style=\"display:none;\">\n",
              "\n",
              "  <svg xmlns=\"http://www.w3.org/2000/svg\" height=\"24px\"viewBox=\"0 0 24 24\"\n",
              "       width=\"24px\">\n",
              "    <path d=\"M7,19H8.4L18.45,9,17,7.55,7,17.6ZM5,21V16.75L18.45,3.32a2,2,0,0,1,2.83,0l1.4,1.43a1.91,1.91,0,0,1,.58,1.4,1.91,1.91,0,0,1-.58,1.4L9.25,21ZM18.45,9,17,7.55Zm-12,3A5.31,5.31,0,0,0,4.9,8.1,5.31,5.31,0,0,0,1,6.5,5.31,5.31,0,0,0,4.9,4.9,5.31,5.31,0,0,0,6.5,1,5.31,5.31,0,0,0,8.1,4.9,5.31,5.31,0,0,0,12,6.5,5.46,5.46,0,0,0,6.5,12Z\"/>\n",
              "  </svg>\n",
              "    </button>\n",
              "    <script>\n",
              "      (() => {\n",
              "      const buttonEl =\n",
              "        document.querySelector('#id_9b11ff43-bc9e-4349-ad74-19d1d90c4384 button.colab-df-generate');\n",
              "      buttonEl.style.display =\n",
              "        google.colab.kernel.accessAllowed ? 'block' : 'none';\n",
              "\n",
              "      buttonEl.onclick = () => {\n",
              "        google.colab.notebook.generateWithVariable('user_literary_age');\n",
              "      }\n",
              "      })();\n",
              "    </script>\n",
              "  </div>\n",
              "\n",
              "    </div>\n",
              "  </div>\n"
            ],
            "application/vnd.google.colaboratory.intrinsic+json": {
              "type": "dataframe",
              "variable_name": "user_literary_age",
              "summary": "{\n  \"name\": \"user_literary_age\",\n  \"rows\": 36592,\n  \"fields\": [\n    {\n      \"column\": \"user_id\",\n      \"properties\": {\n        \"dtype\": \"number\",\n        \"std\": 11327,\n        \"min\": 0,\n        \"max\": 39223,\n        \"num_unique_values\": 36592,\n        \"samples\": [\n          5498,\n          16056,\n          14093\n        ],\n        \"semantic_type\": \"\",\n        \"description\": \"\"\n      }\n    },\n    {\n      \"column\": \"70-\",\n      \"properties\": {\n        \"dtype\": \"number\",\n        \"std\": 0,\n        \"min\": 0,\n        \"max\": 5,\n        \"num_unique_values\": 6,\n        \"samples\": [\n          0,\n          1,\n          4\n        ],\n        \"semantic_type\": \"\",\n        \"description\": \"\"\n      }\n    },\n    {\n      \"column\": \"70-00\",\n      \"properties\": {\n        \"dtype\": \"number\",\n        \"std\": 3,\n        \"min\": 0,\n        \"max\": 91,\n        \"num_unique_values\": 50,\n        \"samples\": [\n          9,\n          29,\n          41\n        ],\n        \"semantic_type\": \"\",\n        \"description\": \"\"\n      }\n    },\n    {\n      \"column\": \"00+\",\n      \"properties\": {\n        \"dtype\": \"number\",\n        \"std\": 5,\n        \"min\": 0,\n        \"max\": 190,\n        \"num_unique_values\": 79,\n        \"samples\": [\n          45,\n          12,\n          15\n        ],\n        \"semantic_type\": \"\",\n        \"description\": \"\"\n      }\n    }\n  ]\n}"
            }
          },
          "metadata": {},
          "execution_count": 13
        }
      ]
    },
    {
      "cell_type": "markdown",
      "source": [
        "### Sugestão de livro e probabilidade de boa avaliação"
      ],
      "metadata": {
        "id": "xZhR8NkHp106"
      }
    },
    {
      "cell_type": "code",
      "source": [
        "user_id = int(input(\"Digite o seu ID de usuário: \"))\n",
        "n_books_user = top_genre_per_user[top_genre_per_user['user_id'] == user_id]['total_books_read'].values[0]\n",
        "best_book, user_genre = recommend_books(user_id, top_genre_per_user, genre_stats_df)\n",
        "print(f'Levando em consideração que seu gênero mais lido é o: {user_genre}\\nVocê deve curtir o {best_book}')\n"
      ],
      "metadata": {
        "colab": {
          "base_uri": "https://localhost:8080/"
        },
        "id": "rRbdIpknxl-2",
        "outputId": "d0c6a6d1-9bce-428a-cc14-97eac525d44d"
      },
      "execution_count": 15,
      "outputs": [
        {
          "output_type": "stream",
          "name": "stdout",
          "text": [
            "Digite o seu ID de usuário: 2\n",
            "Levando em consideração que seu gênero mais lido é o: fiction\n",
            "Você deve curtir o Exploring the Garden with the Little Rose\n"
          ]
        }
      ]
    },
    {
      "cell_type": "code",
      "source": [
        "book_id = int(input('Digite o ID do livro escolhido: '))\n",
        "\n",
        "book_genre = get_book_genre(book_id, genres_df)\n",
        "genre_count = user_genre_count(interactions_df, user_id)\n",
        "time_period_books_read = time_range(books_df, book_id)"
      ],
      "metadata": {
        "colab": {
          "base_uri": "https://localhost:8080/",
          "height": 307
        },
        "id": "Rl-NNVlJOdS2",
        "outputId": "16d3c395-c64c-4655-c3c2-06303428b112"
      },
      "execution_count": 22,
      "outputs": [
        {
          "name": "stdout",
          "output_type": "stream",
          "text": [
            "Digite o ID do livro escolhido: 54\n"
          ]
        },
        {
          "output_type": "error",
          "ename": "TypeError",
          "evalue": "user_genre_count() takes 0 positional arguments but 2 were given",
          "traceback": [
            "\u001b[0;31m---------------------------------------------------------------------------\u001b[0m",
            "\u001b[0;31mTypeError\u001b[0m                                 Traceback (most recent call last)",
            "\u001b[0;32m<ipython-input-22-ba51eeccdc26>\u001b[0m in \u001b[0;36m<cell line: 4>\u001b[0;34m()\u001b[0m\n\u001b[1;32m      2\u001b[0m \u001b[0;34m\u001b[0m\u001b[0m\n\u001b[1;32m      3\u001b[0m \u001b[0mbook_genre\u001b[0m \u001b[0;34m=\u001b[0m \u001b[0mget_book_genre\u001b[0m\u001b[0;34m(\u001b[0m\u001b[0mbook_id\u001b[0m\u001b[0;34m,\u001b[0m \u001b[0mgenres_df\u001b[0m\u001b[0;34m)\u001b[0m\u001b[0;34m\u001b[0m\u001b[0;34m\u001b[0m\u001b[0m\n\u001b[0;32m----> 4\u001b[0;31m \u001b[0mgenre_count\u001b[0m \u001b[0;34m=\u001b[0m \u001b[0muser_genre_count\u001b[0m\u001b[0;34m(\u001b[0m\u001b[0minteractions_df\u001b[0m\u001b[0;34m,\u001b[0m \u001b[0muser_id\u001b[0m\u001b[0;34m)\u001b[0m\u001b[0;34m\u001b[0m\u001b[0;34m\u001b[0m\u001b[0m\n\u001b[0m\u001b[1;32m      5\u001b[0m \u001b[0mpublication_year\u001b[0m \u001b[0;34m=\u001b[0m \u001b[0mint\u001b[0m\u001b[0;34m(\u001b[0m\u001b[0mbooks_df\u001b[0m\u001b[0;34m[\u001b[0m\u001b[0mbooks_df\u001b[0m\u001b[0;34m[\u001b[0m\u001b[0;34m'book_id'\u001b[0m\u001b[0;34m]\u001b[0m \u001b[0;34m==\u001b[0m \u001b[0mbook_id\u001b[0m\u001b[0;34m]\u001b[0m\u001b[0;34m[\u001b[0m\u001b[0;34m'publication_year'\u001b[0m\u001b[0;34m]\u001b[0m\u001b[0;34m.\u001b[0m\u001b[0mvalues\u001b[0m\u001b[0;34m[\u001b[0m\u001b[0;36m0\u001b[0m\u001b[0;34m]\u001b[0m\u001b[0;34m)\u001b[0m\u001b[0;34m\u001b[0m\u001b[0;34m\u001b[0m\u001b[0m\n\u001b[1;32m      6\u001b[0m \u001b[0;32mif\u001b[0m \u001b[0mpublication_year\u001b[0m \u001b[0;34m<\u001b[0m \u001b[0;36m1970\u001b[0m\u001b[0;34m:\u001b[0m\u001b[0;34m\u001b[0m\u001b[0;34m\u001b[0m\u001b[0m\n",
            "\u001b[0;31mTypeError\u001b[0m: user_genre_count() takes 0 positional arguments but 2 were given"
          ]
        }
      ]
    },
    {
      "cell_type": "code",
      "source": [],
      "metadata": {
        "id": "5o4aUo0r-WH4"
      },
      "execution_count": null,
      "outputs": []
    },
    {
      "cell_type": "code",
      "source": [
        "# Calcula as proporções\n",
        "genre_proportion = genre_count / n_books_user if n_books_user else 0\n",
        "time_proportion = time_period_books_read / n_books_user if n_books_user else 0\n",
        "\n",
        "# Calcula a pontuação final com os pesos\n",
        "affinity_score = ((genre_proportion * 2) + (time_proportion ))/3\n",
        "\n",
        "# Normaliza a pontuação para que seja uma porcentagem\n",
        "affinity_score = min(max(affinity_score, 0), 1) * 100  # Garante que a pontuação seja entre 0 e 100\n",
        "\n",
        "print(affinity_score)"
      ],
      "metadata": {
        "id": "ZzgSzPx4YYNT"
      },
      "execution_count": null,
      "outputs": []
    }
  ]
}