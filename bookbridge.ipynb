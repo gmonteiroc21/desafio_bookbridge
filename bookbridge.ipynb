{
  "nbformat": 4,
  "nbformat_minor": 0,
  "metadata": {
    "colab": {
      "provenance": []
    },
    "kernelspec": {
      "name": "python3",
      "display_name": "Python 3"
    },
    "language_info": {
      "name": "python"
    }
  },
  "cells": [
    {
      "cell_type": "code",
      "source": [
        "!git clone https://github.com/gmonteiroc21/desafio_bookbridge.git"
      ],
      "metadata": {
        "id": "aQ5t6EgW8wdX",
        "colab": {
          "base_uri": "https://localhost:8080/"
        },
        "outputId": "690bbc93-d8ae-4e47-96db-c1b09d6c9ca9"
      },
      "execution_count": 1,
      "outputs": [
        {
          "output_type": "stream",
          "name": "stdout",
          "text": [
            "Cloning into 'desafio_bookbridge'...\n",
            "remote: Enumerating objects: 56, done.\u001b[K\n",
            "remote: Counting objects: 100% (56/56), done.\u001b[K\n",
            "remote: Compressing objects: 100% (52/52), done.\u001b[K\n",
            "remote: Total 56 (delta 20), reused 7 (delta 0), pack-reused 0 (from 0)\u001b[K\n",
            "Receiving objects: 100% (56/56), 23.51 KiB | 3.92 MiB/s, done.\n",
            "Resolving deltas: 100% (20/20), done.\n"
          ]
        }
      ]
    },
    {
      "cell_type": "code",
      "source": [
        "%cd desafio_bookbridge"
      ],
      "metadata": {
        "collapsed": true,
        "id": "-j4ibA4CVzSy",
        "colab": {
          "base_uri": "https://localhost:8080/"
        },
        "outputId": "23b0dd20-8671-4641-903f-561f9b8653ac"
      },
      "execution_count": 2,
      "outputs": [
        {
          "output_type": "stream",
          "name": "stdout",
          "text": [
            "/content/desafio_bookbridge\n"
          ]
        }
      ]
    },
    {
      "cell_type": "markdown",
      "source": [
        "###1- Importação e Limpeza"
      ],
      "metadata": {
        "id": "lZNRP8HaawZu"
      }
    },
    {
      "cell_type": "code",
      "source": [
        "#importação do dataset seguindo as instruções na pagina\n",
        "\n",
        "import kagglehub\n",
        "\n",
        "# Download latest version\n",
        "data_path = kagglehub.dataset_download(\"pypiahmad/goodreads-book-reviews1\")\n",
        "\n",
        "print(\"Path to dataset files:\", data_path)"
      ],
      "metadata": {
        "colab": {
          "base_uri": "https://localhost:8080/"
        },
        "id": "8MaGYVGr9i9U",
        "outputId": "b739ce7f-1c18-441f-9b8c-9e4487e785f6"
      },
      "execution_count": 3,
      "outputs": [
        {
          "output_type": "stream",
          "name": "stdout",
          "text": [
            "Downloading from https://www.kaggle.com/api/v1/datasets/download/pypiahmad/goodreads-book-reviews1?dataset_version_number=1...\n"
          ]
        },
        {
          "output_type": "stream",
          "name": "stderr",
          "text": [
            "100%|██████████| 8.14G/8.14G [01:35<00:00, 91.4MB/s]"
          ]
        },
        {
          "output_type": "stream",
          "name": "stdout",
          "text": [
            "Extracting files...\n"
          ]
        },
        {
          "output_type": "stream",
          "name": "stderr",
          "text": [
            "\n"
          ]
        },
        {
          "output_type": "stream",
          "name": "stdout",
          "text": [
            "Path to dataset files: /root/.cache/kagglehub/datasets/pypiahmad/goodreads-book-reviews1/versions/1\n"
          ]
        }
      ]
    },
    {
      "cell_type": "code",
      "source": [
        "import pandas as pd\n",
        "import json\n",
        "import os\n",
        "import sys\n",
        "sys.path.append(os.path.abspath(\"scripts\"))\n",
        "from scripts.manipulating_data import *\n",
        "from scripts.data_analysis import *\n",
        "from scripts.data_preparation import *\n",
        "from scripts.recommender import *\n",
        "\n",
        "file_path = \"/root/.cache/kagglehub/datasets/pypiahmad/goodreads-book-reviews1/versions/1/\"\n"
      ],
      "metadata": {
        "id": "0fnvfZUUVlyg",
        "colab": {
          "base_uri": "https://localhost:8080/",
          "height": 341
        },
        "outputId": "9b58f6d1-8825-4b37-d685-fdbaf634544e"
      },
      "execution_count": 36,
      "outputs": [
        {
          "output_type": "error",
          "ename": "NameError",
          "evalue": "name 'user_ranking_df' is not defined",
          "traceback": [
            "\u001b[0;31m---------------------------------------------------------------------------\u001b[0m",
            "\u001b[0;31mNameError\u001b[0m                                 Traceback (most recent call last)",
            "\u001b[0;32m<ipython-input-36-09af78e0acc8>\u001b[0m in \u001b[0;36m<cell line: 9>\u001b[0;34m()\u001b[0m\n\u001b[1;32m      7\u001b[0m \u001b[0;32mfrom\u001b[0m \u001b[0mscripts\u001b[0m\u001b[0;34m.\u001b[0m\u001b[0mdata_analysis\u001b[0m \u001b[0;32mimport\u001b[0m \u001b[0;34m*\u001b[0m\u001b[0;34m\u001b[0m\u001b[0;34m\u001b[0m\u001b[0m\n\u001b[1;32m      8\u001b[0m \u001b[0;32mfrom\u001b[0m \u001b[0mscripts\u001b[0m\u001b[0;34m.\u001b[0m\u001b[0mdata_preparation\u001b[0m \u001b[0;32mimport\u001b[0m \u001b[0;34m*\u001b[0m\u001b[0;34m\u001b[0m\u001b[0;34m\u001b[0m\u001b[0m\n\u001b[0;32m----> 9\u001b[0;31m \u001b[0;32mfrom\u001b[0m \u001b[0mscripts\u001b[0m\u001b[0;34m.\u001b[0m\u001b[0mrecommender\u001b[0m \u001b[0;32mimport\u001b[0m \u001b[0;34m*\u001b[0m\u001b[0;34m\u001b[0m\u001b[0;34m\u001b[0m\u001b[0m\n\u001b[0m\u001b[1;32m     10\u001b[0m \u001b[0;34m\u001b[0m\u001b[0m\n\u001b[1;32m     11\u001b[0m \u001b[0mfile_path\u001b[0m \u001b[0;34m=\u001b[0m \u001b[0;34m\"/root/.cache/kagglehub/datasets/pypiahmad/goodreads-book-reviews1/versions/1/\"\u001b[0m\u001b[0;34m\u001b[0m\u001b[0;34m\u001b[0m\u001b[0m\n",
            "\u001b[0;32m/content/desafio_bookbridge/scripts/recommender.py\u001b[0m in \u001b[0;36m<module>\u001b[0;34m\u001b[0m\n\u001b[1;32m     25\u001b[0m \u001b[0;31m# Exemplo de chamada\u001b[0m\u001b[0;34m\u001b[0m\u001b[0;34m\u001b[0m\u001b[0m\n\u001b[1;32m     26\u001b[0m \u001b[0muser_id\u001b[0m \u001b[0;34m=\u001b[0m \u001b[0;36m21\u001b[0m\u001b[0;34m\u001b[0m\u001b[0;34m\u001b[0m\u001b[0m\n\u001b[0;32m---> 27\u001b[0;31m \u001b[0mrecommended_books\u001b[0m \u001b[0;34m=\u001b[0m \u001b[0mrecommend_books\u001b[0m\u001b[0;34m(\u001b[0m\u001b[0muser_id\u001b[0m\u001b[0;34m,\u001b[0m \u001b[0muser_ranking_df\u001b[0m\u001b[0;34m,\u001b[0m \u001b[0mgenre_stats_df\u001b[0m\u001b[0;34m,\u001b[0m \u001b[0minteractions_df\u001b[0m\u001b[0;34m,\u001b[0m \u001b[0mbooks_df\u001b[0m\u001b[0;34m)\u001b[0m\u001b[0;34m\u001b[0m\u001b[0;34m\u001b[0m\u001b[0m\n\u001b[0m\u001b[1;32m     28\u001b[0m \u001b[0mprint\u001b[0m\u001b[0;34m(\u001b[0m\u001b[0mrecommended_books\u001b[0m\u001b[0;34m)\u001b[0m\u001b[0;34m\u001b[0m\u001b[0;34m\u001b[0m\u001b[0m\n",
            "\u001b[0;31mNameError\u001b[0m: name 'user_ranking_df' is not defined"
          ]
        }
      ]
    },
    {
      "cell_type": "code",
      "source": [
        "#transforma as interações dos usuarios em um dataframe\n",
        "interactions_df = pd.read_csv(file_path+'goodreads_interactions.csv', nrows=20000000) #limita em  2M de linhas\n",
        "print(interactions_df.head(1))"
      ],
      "metadata": {
        "id": "y2jKoDxYZQ_B",
        "colab": {
          "base_uri": "https://localhost:8080/"
        },
        "outputId": "84055a85-98b3-4e56-da67-ae88ff159e52"
      },
      "execution_count": 4,
      "outputs": [
        {
          "output_type": "stream",
          "name": "stdout",
          "text": [
            "   user_id  book_id  is_read  rating  is_reviewed\n",
            "0        0      948        1       5            0\n"
          ]
        }
      ]
    },
    {
      "cell_type": "code",
      "source": [
        "#transforma as informações dos livros em um dataframe\n",
        "df = pd.read_json(file_path+'goodreads_books.json', lines=True, nrows=100000) #limita em 100mil linhas\n",
        "colunas_desejadas = ['book_id',  'authors' ,'title', 'average_rating', 'ratings_count',\n",
        "              'num_pages', 'publication_year', 'text_reviews_count']\n",
        "books_df = df[colunas_desejadas]\n"
      ],
      "metadata": {
        "id": "Fj7dtcXtlhM8"
      },
      "execution_count": 12,
      "outputs": []
    },
    {
      "cell_type": "markdown",
      "source": [
        "tratamento do *books_df*"
      ],
      "metadata": {
        "id": "zTM16MtN18J7"
      }
    },
    {
      "cell_type": "code",
      "source": [
        "first_df = clean_empty_rows(books_df, 'book_id')\n",
        "\n",
        "'''books_df = duplicate_size(file_path+'goodreads_books.json', books_df, colunas_desejadas)'''\n",
        "\n",
        "books_df['average_rating'] = pd.to_numeric(books_df['average_rating'], errors='coerce')\n",
        "\n",
        "print(books_df.info())"
      ],
      "metadata": {
        "colab": {
          "base_uri": "https://localhost:8080/"
        },
        "id": "bOth40PUpxFB",
        "outputId": "3ae60d58-ff55-49c8-ecae-01eaeac93fa1"
      },
      "execution_count": 13,
      "outputs": [
        {
          "output_type": "stream",
          "name": "stdout",
          "text": [
            "<class 'pandas.core.frame.DataFrame'>\n",
            "RangeIndex: 100000 entries, 0 to 99999\n",
            "Data columns (total 8 columns):\n",
            " #   Column              Non-Null Count   Dtype  \n",
            "---  ------              --------------   -----  \n",
            " 0   book_id             100000 non-null  int64  \n",
            " 1   authors             100000 non-null  object \n",
            " 2   title               100000 non-null  object \n",
            " 3   average_rating      99981 non-null   float64\n",
            " 4   ratings_count       100000 non-null  object \n",
            " 5   num_pages           100000 non-null  object \n",
            " 6   publication_year    100000 non-null  object \n",
            " 7   text_reviews_count  100000 non-null  object \n",
            "dtypes: float64(1), int64(1), object(6)\n",
            "memory usage: 6.1+ MB\n",
            "None\n"
          ]
        },
        {
          "output_type": "stream",
          "name": "stderr",
          "text": [
            "<ipython-input-13-21e8220980cd>:5: SettingWithCopyWarning: \n",
            "A value is trying to be set on a copy of a slice from a DataFrame.\n",
            "Try using .loc[row_indexer,col_indexer] = value instead\n",
            "\n",
            "See the caveats in the documentation: https://pandas.pydata.org/pandas-docs/stable/user_guide/indexing.html#returning-a-view-versus-a-copy\n",
            "  books_df['average_rating'] = pd.to_numeric(books_df['average_rating'], errors='coerce')\n"
          ]
        }
      ]
    },
    {
      "cell_type": "code",
      "source": [
        "#transforma as informações dos autores em um dataframe\n",
        "authors_df = pd.read_json(file_path+'goodreads_book_authors.json', lines=True)\n",
        "print(authors_df.head(1))"
      ],
      "metadata": {
        "id": "E117bJgakQ8z",
        "colab": {
          "base_uri": "https://localhost:8080/"
        },
        "outputId": "a127cf31-7239-4533-a6d0-32abc9b8090c"
      },
      "execution_count": 14,
      "outputs": [
        {
          "output_type": "stream",
          "name": "stdout",
          "text": [
            "   average_rating  author_id  text_reviews_count              name  \\\n",
            "0            3.98     604031                   7  Ronald J. Fields   \n",
            "\n",
            "   ratings_count  \n",
            "0             49  \n"
          ]
        }
      ]
    },
    {
      "cell_type": "code",
      "source": [
        "#transforma as informações de generos em um dataframe\n",
        "genres_df = pd.read_json(file_path+'goodreads_book_genres_initial.json', lines=True)\n",
        "print(genres_df.head(10))\n"
      ],
      "metadata": {
        "colab": {
          "base_uri": "https://localhost:8080/"
        },
        "id": "7psEOCZpkWde",
        "outputId": "33cd4ddf-b9e8-4902-e6f5-3d3fe4d87d1f"
      },
      "execution_count": 5,
      "outputs": [
        {
          "output_type": "stream",
          "name": "stdout",
          "text": [
            "    book_id                                             genres\n",
            "0   5333265      {'history, historical fiction, biography': 1}\n",
            "1   1333909  {'fiction': 219, 'history, historical fiction,...\n",
            "2   7327624  {'fantasy, paranormal': 31, 'fiction': 8, 'mys...\n",
            "3   6066819  {'fiction': 555, 'romance': 23, 'mystery, thri...\n",
            "4    287140                                 {'non-fiction': 3}\n",
            "5    287141  {'history, historical fiction, biography': 9, ...\n",
            "6    378460                                     {'fiction': 2}\n",
            "7   6066812  {'fantasy, paranormal': 32, 'young-adult': 8, ...\n",
            "8  34883016                                     {'romance': 3}\n",
            "9    287149  {'non-fiction': 24, 'history, historical ficti...\n"
          ]
        }
      ]
    },
    {
      "cell_type": "code",
      "source": [
        "books_df = books_df.merge(\n",
        "    genres_df[['book_id', 'genres']],  # Seleciona apenas 'book_id' e 'genres'\n",
        "    on='book_id',  # A chave de junção\n",
        "    how='left'  # Mantém todos os livros, mesmo aqueles sem gênero\n",
        ")"
      ],
      "metadata": {
        "id": "qG-fYS3c1_s8"
      },
      "execution_count": 37,
      "outputs": []
    },
    {
      "cell_type": "markdown",
      "source": [
        "### 2 - Análise exploratória e preparação dos dados para modelagem"
      ],
      "metadata": {
        "id": "Ql72nJUT7zSG"
      }
    },
    {
      "cell_type": "code",
      "source": [
        "unique_genres = ['history, historical fiction, biography', 'fiction', 'fantasy, paranormal'\n",
        " ,'mystery, thriller, crime', 'poetry', 'romance', 'non-fiction', 'children',\n",
        " 'young-adult', 'comics, graphic']\n"
      ],
      "metadata": {
        "id": "_nKypIXzffS9"
      },
      "execution_count": 9,
      "outputs": []
    },
    {
      "cell_type": "code",
      "source": [
        "genre_stats_df = genre_stats(genres_df, books_df, unique_genres)\n",
        "print(genre_stats_df)"
      ],
      "metadata": {
        "colab": {
          "base_uri": "https://localhost:8080/"
        },
        "id": "YacowJzqyan7",
        "outputId": "63c78b75-e5d5-488f-af78-de490d22c4e2"
      },
      "execution_count": 14,
      "outputs": [
        {
          "output_type": "stream",
          "name": "stdout",
          "text": [
            "         book_id                                  genres  average_rating  \\\n",
            "86374   35559368  history, historical fiction, biography            5.00   \n",
            "33599   20996579                                 fiction            5.00   \n",
            "79068   31344082                     fantasy, paranormal            5.00   \n",
            "221166  16127783                mystery, thriller, crime            5.00   \n",
            "197341  15809673                                  poetry            5.00   \n",
            "104733  35511414                                 romance            5.00   \n",
            "172653  25457536                             non-fiction            4.94   \n",
            "118251  29004052                                children            5.00   \n",
            "169460  33670726                             young-adult            4.93   \n",
            "118250  29004052                         comics, graphic            5.00   \n",
            "\n",
            "        ratings_count                                              title  \n",
            "86374              10                             Why Did You Choose Me?  \n",
            "33599              27                                   Dominoes: Part 3  \n",
            "79068              10                                    Dark Attraction  \n",
            "221166             14            The Third Rule - Part Three: Sacrifices  \n",
            "197341             12                                           Roleplay  \n",
            "104733             11                                            Shallow  \n",
            "172653             16  When Women Become Business Owners (A Stepping ...  \n",
            "118251             14                              Venus Aqueous: Book 1  \n",
            "169460             13        Mouth of the Dragon: Prophecy of the Evarun  \n",
            "118250             14                              Venus Aqueous: Book 1  \n"
          ]
        }
      ]
    },
    {
      "cell_type": "code",
      "source": [
        "top_genre_per_user = user_preference(interactions_df, genres_df)\n",
        "print(top_genre_per_user)"
      ],
      "metadata": {
        "colab": {
          "base_uri": "https://localhost:8080/"
        },
        "id": "Xz2whruKtTpF",
        "outputId": "cbc3816e-df61-46ff-9aa6-c228025e1655"
      },
      "execution_count": 11,
      "outputs": [
        {
          "output_type": "stream",
          "name": "stdout",
          "text": [
            "     user_id                          favorite_genre  genre_count\n",
            "3          0                                 fiction          364\n",
            "16         1                             non-fiction           39\n",
            "25         2                             non-fiction           55\n",
            "32         3                                 fiction          133\n",
            "42         4                                 fiction           87\n",
            "52         5                                 fiction         2080\n",
            "62         6                                 fiction           54\n",
            "72         7                                 fiction           49\n",
            "85         8                             non-fiction           64\n",
            "92         9                                 fiction          117\n",
            "102       10                                 fiction           56\n",
            "112       11                                 fiction          243\n",
            "122       12                                 fiction           51\n",
            "133       13  history, historical fiction, biography          108\n",
            "142       14                                 fiction         1929\n",
            "152       15                                 fiction          202\n",
            "162       16                                 fiction          151\n",
            "172       17                                 fiction           44\n",
            "182       18                                 fiction          136\n",
            "192       19                                 fiction           41\n"
          ]
        }
      ]
    },
    {
      "cell_type": "code",
      "source": [
        "user_literary_age = calculate_user_literary_age(interactions_df, books_df)\n",
        "user_literary_age"
      ],
      "metadata": {
        "id": "YXnezWU6G0L3",
        "colab": {
          "base_uri": "https://localhost:8080/",
          "height": 424
        },
        "outputId": "f184c020-5c3d-4fb6-81d1-401735049d28"
      },
      "execution_count": 15,
      "outputs": [
        {
          "output_type": "execute_result",
          "data": {
            "text/plain": [
              "       user_id  70-  70-00  00+\n",
              "0            0    0      3    6\n",
              "1            1    0      0    1\n",
              "2            2    0      1    2\n",
              "3            3    0      2    0\n",
              "4            4    0      4    4\n",
              "...        ...  ...    ...  ...\n",
              "32584    39219    1      2    3\n",
              "32585    39220    0      2    5\n",
              "32586    39221    0      3    1\n",
              "32587    39222    0      2    0\n",
              "32588    39223    0      3    3\n",
              "\n",
              "[32589 rows x 4 columns]"
            ],
            "text/html": [
              "\n",
              "  <div id=\"df-d5dddf99-d462-4916-b38b-30500005e1c6\" class=\"colab-df-container\">\n",
              "    <div>\n",
              "<style scoped>\n",
              "    .dataframe tbody tr th:only-of-type {\n",
              "        vertical-align: middle;\n",
              "    }\n",
              "\n",
              "    .dataframe tbody tr th {\n",
              "        vertical-align: top;\n",
              "    }\n",
              "\n",
              "    .dataframe thead th {\n",
              "        text-align: right;\n",
              "    }\n",
              "</style>\n",
              "<table border=\"1\" class=\"dataframe\">\n",
              "  <thead>\n",
              "    <tr style=\"text-align: right;\">\n",
              "      <th></th>\n",
              "      <th>user_id</th>\n",
              "      <th>70-</th>\n",
              "      <th>70-00</th>\n",
              "      <th>00+</th>\n",
              "    </tr>\n",
              "  </thead>\n",
              "  <tbody>\n",
              "    <tr>\n",
              "      <th>0</th>\n",
              "      <td>0</td>\n",
              "      <td>0</td>\n",
              "      <td>3</td>\n",
              "      <td>6</td>\n",
              "    </tr>\n",
              "    <tr>\n",
              "      <th>1</th>\n",
              "      <td>1</td>\n",
              "      <td>0</td>\n",
              "      <td>0</td>\n",
              "      <td>1</td>\n",
              "    </tr>\n",
              "    <tr>\n",
              "      <th>2</th>\n",
              "      <td>2</td>\n",
              "      <td>0</td>\n",
              "      <td>1</td>\n",
              "      <td>2</td>\n",
              "    </tr>\n",
              "    <tr>\n",
              "      <th>3</th>\n",
              "      <td>3</td>\n",
              "      <td>0</td>\n",
              "      <td>2</td>\n",
              "      <td>0</td>\n",
              "    </tr>\n",
              "    <tr>\n",
              "      <th>4</th>\n",
              "      <td>4</td>\n",
              "      <td>0</td>\n",
              "      <td>4</td>\n",
              "      <td>4</td>\n",
              "    </tr>\n",
              "    <tr>\n",
              "      <th>...</th>\n",
              "      <td>...</td>\n",
              "      <td>...</td>\n",
              "      <td>...</td>\n",
              "      <td>...</td>\n",
              "    </tr>\n",
              "    <tr>\n",
              "      <th>32584</th>\n",
              "      <td>39219</td>\n",
              "      <td>1</td>\n",
              "      <td>2</td>\n",
              "      <td>3</td>\n",
              "    </tr>\n",
              "    <tr>\n",
              "      <th>32585</th>\n",
              "      <td>39220</td>\n",
              "      <td>0</td>\n",
              "      <td>2</td>\n",
              "      <td>5</td>\n",
              "    </tr>\n",
              "    <tr>\n",
              "      <th>32586</th>\n",
              "      <td>39221</td>\n",
              "      <td>0</td>\n",
              "      <td>3</td>\n",
              "      <td>1</td>\n",
              "    </tr>\n",
              "    <tr>\n",
              "      <th>32587</th>\n",
              "      <td>39222</td>\n",
              "      <td>0</td>\n",
              "      <td>2</td>\n",
              "      <td>0</td>\n",
              "    </tr>\n",
              "    <tr>\n",
              "      <th>32588</th>\n",
              "      <td>39223</td>\n",
              "      <td>0</td>\n",
              "      <td>3</td>\n",
              "      <td>3</td>\n",
              "    </tr>\n",
              "  </tbody>\n",
              "</table>\n",
              "<p>32589 rows × 4 columns</p>\n",
              "</div>\n",
              "    <div class=\"colab-df-buttons\">\n",
              "\n",
              "  <div class=\"colab-df-container\">\n",
              "    <button class=\"colab-df-convert\" onclick=\"convertToInteractive('df-d5dddf99-d462-4916-b38b-30500005e1c6')\"\n",
              "            title=\"Convert this dataframe to an interactive table.\"\n",
              "            style=\"display:none;\">\n",
              "\n",
              "  <svg xmlns=\"http://www.w3.org/2000/svg\" height=\"24px\" viewBox=\"0 -960 960 960\">\n",
              "    <path d=\"M120-120v-720h720v720H120Zm60-500h600v-160H180v160Zm220 220h160v-160H400v160Zm0 220h160v-160H400v160ZM180-400h160v-160H180v160Zm440 0h160v-160H620v160ZM180-180h160v-160H180v160Zm440 0h160v-160H620v160Z\"/>\n",
              "  </svg>\n",
              "    </button>\n",
              "\n",
              "  <style>\n",
              "    .colab-df-container {\n",
              "      display:flex;\n",
              "      gap: 12px;\n",
              "    }\n",
              "\n",
              "    .colab-df-convert {\n",
              "      background-color: #E8F0FE;\n",
              "      border: none;\n",
              "      border-radius: 50%;\n",
              "      cursor: pointer;\n",
              "      display: none;\n",
              "      fill: #1967D2;\n",
              "      height: 32px;\n",
              "      padding: 0 0 0 0;\n",
              "      width: 32px;\n",
              "    }\n",
              "\n",
              "    .colab-df-convert:hover {\n",
              "      background-color: #E2EBFA;\n",
              "      box-shadow: 0px 1px 2px rgba(60, 64, 67, 0.3), 0px 1px 3px 1px rgba(60, 64, 67, 0.15);\n",
              "      fill: #174EA6;\n",
              "    }\n",
              "\n",
              "    .colab-df-buttons div {\n",
              "      margin-bottom: 4px;\n",
              "    }\n",
              "\n",
              "    [theme=dark] .colab-df-convert {\n",
              "      background-color: #3B4455;\n",
              "      fill: #D2E3FC;\n",
              "    }\n",
              "\n",
              "    [theme=dark] .colab-df-convert:hover {\n",
              "      background-color: #434B5C;\n",
              "      box-shadow: 0px 1px 3px 1px rgba(0, 0, 0, 0.15);\n",
              "      filter: drop-shadow(0px 1px 2px rgba(0, 0, 0, 0.3));\n",
              "      fill: #FFFFFF;\n",
              "    }\n",
              "  </style>\n",
              "\n",
              "    <script>\n",
              "      const buttonEl =\n",
              "        document.querySelector('#df-d5dddf99-d462-4916-b38b-30500005e1c6 button.colab-df-convert');\n",
              "      buttonEl.style.display =\n",
              "        google.colab.kernel.accessAllowed ? 'block' : 'none';\n",
              "\n",
              "      async function convertToInteractive(key) {\n",
              "        const element = document.querySelector('#df-d5dddf99-d462-4916-b38b-30500005e1c6');\n",
              "        const dataTable =\n",
              "          await google.colab.kernel.invokeFunction('convertToInteractive',\n",
              "                                                    [key], {});\n",
              "        if (!dataTable) return;\n",
              "\n",
              "        const docLinkHtml = 'Like what you see? Visit the ' +\n",
              "          '<a target=\"_blank\" href=https://colab.research.google.com/notebooks/data_table.ipynb>data table notebook</a>'\n",
              "          + ' to learn more about interactive tables.';\n",
              "        element.innerHTML = '';\n",
              "        dataTable['output_type'] = 'display_data';\n",
              "        await google.colab.output.renderOutput(dataTable, element);\n",
              "        const docLink = document.createElement('div');\n",
              "        docLink.innerHTML = docLinkHtml;\n",
              "        element.appendChild(docLink);\n",
              "      }\n",
              "    </script>\n",
              "  </div>\n",
              "\n",
              "\n",
              "<div id=\"df-b1017097-7fbc-48da-8024-e2e5b839cfd6\">\n",
              "  <button class=\"colab-df-quickchart\" onclick=\"quickchart('df-b1017097-7fbc-48da-8024-e2e5b839cfd6')\"\n",
              "            title=\"Suggest charts\"\n",
              "            style=\"display:none;\">\n",
              "\n",
              "<svg xmlns=\"http://www.w3.org/2000/svg\" height=\"24px\"viewBox=\"0 0 24 24\"\n",
              "     width=\"24px\">\n",
              "    <g>\n",
              "        <path d=\"M19 3H5c-1.1 0-2 .9-2 2v14c0 1.1.9 2 2 2h14c1.1 0 2-.9 2-2V5c0-1.1-.9-2-2-2zM9 17H7v-7h2v7zm4 0h-2V7h2v10zm4 0h-2v-4h2v4z\"/>\n",
              "    </g>\n",
              "</svg>\n",
              "  </button>\n",
              "\n",
              "<style>\n",
              "  .colab-df-quickchart {\n",
              "      --bg-color: #E8F0FE;\n",
              "      --fill-color: #1967D2;\n",
              "      --hover-bg-color: #E2EBFA;\n",
              "      --hover-fill-color: #174EA6;\n",
              "      --disabled-fill-color: #AAA;\n",
              "      --disabled-bg-color: #DDD;\n",
              "  }\n",
              "\n",
              "  [theme=dark] .colab-df-quickchart {\n",
              "      --bg-color: #3B4455;\n",
              "      --fill-color: #D2E3FC;\n",
              "      --hover-bg-color: #434B5C;\n",
              "      --hover-fill-color: #FFFFFF;\n",
              "      --disabled-bg-color: #3B4455;\n",
              "      --disabled-fill-color: #666;\n",
              "  }\n",
              "\n",
              "  .colab-df-quickchart {\n",
              "    background-color: var(--bg-color);\n",
              "    border: none;\n",
              "    border-radius: 50%;\n",
              "    cursor: pointer;\n",
              "    display: none;\n",
              "    fill: var(--fill-color);\n",
              "    height: 32px;\n",
              "    padding: 0;\n",
              "    width: 32px;\n",
              "  }\n",
              "\n",
              "  .colab-df-quickchart:hover {\n",
              "    background-color: var(--hover-bg-color);\n",
              "    box-shadow: 0 1px 2px rgba(60, 64, 67, 0.3), 0 1px 3px 1px rgba(60, 64, 67, 0.15);\n",
              "    fill: var(--button-hover-fill-color);\n",
              "  }\n",
              "\n",
              "  .colab-df-quickchart-complete:disabled,\n",
              "  .colab-df-quickchart-complete:disabled:hover {\n",
              "    background-color: var(--disabled-bg-color);\n",
              "    fill: var(--disabled-fill-color);\n",
              "    box-shadow: none;\n",
              "  }\n",
              "\n",
              "  .colab-df-spinner {\n",
              "    border: 2px solid var(--fill-color);\n",
              "    border-color: transparent;\n",
              "    border-bottom-color: var(--fill-color);\n",
              "    animation:\n",
              "      spin 1s steps(1) infinite;\n",
              "  }\n",
              "\n",
              "  @keyframes spin {\n",
              "    0% {\n",
              "      border-color: transparent;\n",
              "      border-bottom-color: var(--fill-color);\n",
              "      border-left-color: var(--fill-color);\n",
              "    }\n",
              "    20% {\n",
              "      border-color: transparent;\n",
              "      border-left-color: var(--fill-color);\n",
              "      border-top-color: var(--fill-color);\n",
              "    }\n",
              "    30% {\n",
              "      border-color: transparent;\n",
              "      border-left-color: var(--fill-color);\n",
              "      border-top-color: var(--fill-color);\n",
              "      border-right-color: var(--fill-color);\n",
              "    }\n",
              "    40% {\n",
              "      border-color: transparent;\n",
              "      border-right-color: var(--fill-color);\n",
              "      border-top-color: var(--fill-color);\n",
              "    }\n",
              "    60% {\n",
              "      border-color: transparent;\n",
              "      border-right-color: var(--fill-color);\n",
              "    }\n",
              "    80% {\n",
              "      border-color: transparent;\n",
              "      border-right-color: var(--fill-color);\n",
              "      border-bottom-color: var(--fill-color);\n",
              "    }\n",
              "    90% {\n",
              "      border-color: transparent;\n",
              "      border-bottom-color: var(--fill-color);\n",
              "    }\n",
              "  }\n",
              "</style>\n",
              "\n",
              "  <script>\n",
              "    async function quickchart(key) {\n",
              "      const quickchartButtonEl =\n",
              "        document.querySelector('#' + key + ' button');\n",
              "      quickchartButtonEl.disabled = true;  // To prevent multiple clicks.\n",
              "      quickchartButtonEl.classList.add('colab-df-spinner');\n",
              "      try {\n",
              "        const charts = await google.colab.kernel.invokeFunction(\n",
              "            'suggestCharts', [key], {});\n",
              "      } catch (error) {\n",
              "        console.error('Error during call to suggestCharts:', error);\n",
              "      }\n",
              "      quickchartButtonEl.classList.remove('colab-df-spinner');\n",
              "      quickchartButtonEl.classList.add('colab-df-quickchart-complete');\n",
              "    }\n",
              "    (() => {\n",
              "      let quickchartButtonEl =\n",
              "        document.querySelector('#df-b1017097-7fbc-48da-8024-e2e5b839cfd6 button');\n",
              "      quickchartButtonEl.style.display =\n",
              "        google.colab.kernel.accessAllowed ? 'block' : 'none';\n",
              "    })();\n",
              "  </script>\n",
              "</div>\n",
              "\n",
              "  <div id=\"id_fc45cbf0-6220-47f6-82cf-fc39489c267d\">\n",
              "    <style>\n",
              "      .colab-df-generate {\n",
              "        background-color: #E8F0FE;\n",
              "        border: none;\n",
              "        border-radius: 50%;\n",
              "        cursor: pointer;\n",
              "        display: none;\n",
              "        fill: #1967D2;\n",
              "        height: 32px;\n",
              "        padding: 0 0 0 0;\n",
              "        width: 32px;\n",
              "      }\n",
              "\n",
              "      .colab-df-generate:hover {\n",
              "        background-color: #E2EBFA;\n",
              "        box-shadow: 0px 1px 2px rgba(60, 64, 67, 0.3), 0px 1px 3px 1px rgba(60, 64, 67, 0.15);\n",
              "        fill: #174EA6;\n",
              "      }\n",
              "\n",
              "      [theme=dark] .colab-df-generate {\n",
              "        background-color: #3B4455;\n",
              "        fill: #D2E3FC;\n",
              "      }\n",
              "\n",
              "      [theme=dark] .colab-df-generate:hover {\n",
              "        background-color: #434B5C;\n",
              "        box-shadow: 0px 1px 3px 1px rgba(0, 0, 0, 0.15);\n",
              "        filter: drop-shadow(0px 1px 2px rgba(0, 0, 0, 0.3));\n",
              "        fill: #FFFFFF;\n",
              "      }\n",
              "    </style>\n",
              "    <button class=\"colab-df-generate\" onclick=\"generateWithVariable('user_literary_age')\"\n",
              "            title=\"Generate code using this dataframe.\"\n",
              "            style=\"display:none;\">\n",
              "\n",
              "  <svg xmlns=\"http://www.w3.org/2000/svg\" height=\"24px\"viewBox=\"0 0 24 24\"\n",
              "       width=\"24px\">\n",
              "    <path d=\"M7,19H8.4L18.45,9,17,7.55,7,17.6ZM5,21V16.75L18.45,3.32a2,2,0,0,1,2.83,0l1.4,1.43a1.91,1.91,0,0,1,.58,1.4,1.91,1.91,0,0,1-.58,1.4L9.25,21ZM18.45,9,17,7.55Zm-12,3A5.31,5.31,0,0,0,4.9,8.1,5.31,5.31,0,0,0,1,6.5,5.31,5.31,0,0,0,4.9,4.9,5.31,5.31,0,0,0,6.5,1,5.31,5.31,0,0,0,8.1,4.9,5.31,5.31,0,0,0,12,6.5,5.46,5.46,0,0,0,6.5,12Z\"/>\n",
              "  </svg>\n",
              "    </button>\n",
              "    <script>\n",
              "      (() => {\n",
              "      const buttonEl =\n",
              "        document.querySelector('#id_fc45cbf0-6220-47f6-82cf-fc39489c267d button.colab-df-generate');\n",
              "      buttonEl.style.display =\n",
              "        google.colab.kernel.accessAllowed ? 'block' : 'none';\n",
              "\n",
              "      buttonEl.onclick = () => {\n",
              "        google.colab.notebook.generateWithVariable('user_literary_age');\n",
              "      }\n",
              "      })();\n",
              "    </script>\n",
              "  </div>\n",
              "\n",
              "    </div>\n",
              "  </div>\n"
            ],
            "application/vnd.google.colaboratory.intrinsic+json": {
              "type": "dataframe",
              "variable_name": "user_literary_age",
              "summary": "{\n  \"name\": \"user_literary_age\",\n  \"rows\": 32589,\n  \"fields\": [\n    {\n      \"column\": \"user_id\",\n      \"properties\": {\n        \"dtype\": \"number\",\n        \"std\": 11311,\n        \"min\": 0,\n        \"max\": 39223,\n        \"num_unique_values\": 32589,\n        \"samples\": [\n          17830,\n          29223,\n          8718\n        ],\n        \"semantic_type\": \"\",\n        \"description\": \"\"\n      }\n    },\n    {\n      \"column\": \"70-\",\n      \"properties\": {\n        \"dtype\": \"number\",\n        \"std\": 0,\n        \"min\": 0,\n        \"max\": 5,\n        \"num_unique_values\": 6,\n        \"samples\": [\n          0,\n          1,\n          4\n        ],\n        \"semantic_type\": \"\",\n        \"description\": \"\"\n      }\n    },\n    {\n      \"column\": \"70-00\",\n      \"properties\": {\n        \"dtype\": \"number\",\n        \"std\": 2,\n        \"min\": 0,\n        \"max\": 49,\n        \"num_unique_values\": 33,\n        \"samples\": [\n          46,\n          17,\n          26\n        ],\n        \"semantic_type\": \"\",\n        \"description\": \"\"\n      }\n    },\n    {\n      \"column\": \"00+\",\n      \"properties\": {\n        \"dtype\": \"number\",\n        \"std\": 3,\n        \"min\": 0,\n        \"max\": 96,\n        \"num_unique_values\": 47,\n        \"samples\": [\n          24,\n          35,\n          22\n        ],\n        \"semantic_type\": \"\",\n        \"description\": \"\"\n      }\n    }\n  ]\n}"
            }
          },
          "metadata": {},
          "execution_count": 15
        }
      ]
    },
    {
      "cell_type": "code",
      "source": [
        "user_id = 18\n",
        "user_genre = top_genre_per_user[top_genre_per_user['user_id'] == user_id]['favorite_genre'].iloc[0]\n",
        "\n",
        "# Filtra o DataFrame de estatísticas de gêneros para pegar a linha correspondente ao gênero\n",
        "best_book_in_genre = genre_stats_df[genre_stats_df['genres'] == user_genre]\n",
        "\n",
        "# Agora, você pode acessar as informações do melhor livro desse gênero\n",
        "best_book = best_book_in_genre['title'].iloc[0]  # Pega o nome do melhor livro\n",
        "\n",
        "# Exibe o melhor livro do gênero\n",
        "print(best_book)\n"
      ],
      "metadata": {
        "colab": {
          "base_uri": "https://localhost:8080/"
        },
        "id": "rRbdIpknxl-2",
        "outputId": "3091b10a-cb30-4387-9c9c-77bc9a2b7b82"
      },
      "execution_count": 47,
      "outputs": [
        {
          "output_type": "stream",
          "name": "stdout",
          "text": [
            "Dominoes: Part 3\n"
          ]
        }
      ]
    }
  ]
}