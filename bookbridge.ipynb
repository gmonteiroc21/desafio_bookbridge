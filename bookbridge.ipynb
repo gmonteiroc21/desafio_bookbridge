{
  "nbformat": 4,
  "nbformat_minor": 0,
  "metadata": {
    "colab": {
      "provenance": []
    },
    "kernelspec": {
      "name": "python3",
      "display_name": "Python 3"
    },
    "language_info": {
      "name": "python"
    }
  },
  "cells": [
    {
      "cell_type": "code",
      "source": [
        "!git clone https://github.com/gmonteiroc21/desafio_bookbridge.git"
      ],
      "metadata": {
        "id": "aQ5t6EgW8wdX"
      },
      "execution_count": null,
      "outputs": []
    },
    {
      "cell_type": "code",
      "source": [
        "%cd desafio_bookbridge"
      ],
      "metadata": {
        "collapsed": true,
        "id": "-j4ibA4CVzSy"
      },
      "execution_count": null,
      "outputs": []
    },
    {
      "cell_type": "markdown",
      "source": [
        "###1- Importação e Limpeza"
      ],
      "metadata": {
        "id": "lZNRP8HaawZu"
      }
    },
    {
      "cell_type": "code",
      "source": [
        "#importação do dataset seguindo as instruções na pagina\n",
        "\n",
        "import kagglehub\n",
        "\n",
        "# Download latest version\n",
        "data_path = kagglehub.dataset_download(\"pypiahmad/goodreads-book-reviews1\")\n",
        "\n",
        "print(\"Path to dataset files:\", data_path)"
      ],
      "metadata": {
        "id": "8MaGYVGr9i9U"
      },
      "execution_count": null,
      "outputs": []
    },
    {
      "cell_type": "code",
      "source": [
        "import pandas as pd\n",
        "import json\n",
        "import os\n",
        "import sys\n",
        "sys.path.append(os.path.abspath(\"scripts\"))\n",
        "from scripts.manipulating_data import *\n",
        "from scripts.data_analysis import *\n",
        "from scripts.data_preparation import *\n",
        "from scripts.recommender import *\n",
        "\n",
        "file_path = \"/root/.cache/kagglehub/datasets/pypiahmad/goodreads-book-reviews1/versions/1/\"\n"
      ],
      "metadata": {
        "id": "0fnvfZUUVlyg"
      },
      "execution_count": 17,
      "outputs": []
    },
    {
      "cell_type": "code",
      "source": [
        "#transforma as interações dos usuarios em um dataframe\n",
        "interactions_df = pd.read_csv(file_path+'goodreads_interactions.csv', nrows=20000000) #limita em  2M de linhas\n",
        "print(interactions_df.head(1))"
      ],
      "metadata": {
        "id": "y2jKoDxYZQ_B"
      },
      "execution_count": null,
      "outputs": []
    },
    {
      "cell_type": "code",
      "source": [
        "#transforma as informações dos livros em um dataframe\n",
        "books_df = select_books(file_path+'goodreads_books.json')\n",
        "print(books_df)\n"
      ],
      "metadata": {
        "id": "Fj7dtcXtlhM8"
      },
      "execution_count": null,
      "outputs": []
    },
    {
      "cell_type": "code",
      "source": [
        "print(books_df)\n"
      ],
      "metadata": {
        "id": "BC8xA5crY_m6"
      },
      "execution_count": null,
      "outputs": []
    },
    {
      "cell_type": "code",
      "source": [
        "valid_books = interactions_df['book_id'].isin(books_df['book_id'])\n",
        "interactions_read = interactions_df[(interactions_df['is_read'] == 1) & valid_books]\n",
        "\n",
        "user_total_books = interactions_read.groupby('user_id').size().reset_index(name='user_total_books')\n",
        "\n",
        "print(user_total_books)"
      ],
      "metadata": {
        "id": "hpaPa7giy3hz"
      },
      "execution_count": null,
      "outputs": []
    },
    {
      "cell_type": "markdown",
      "source": [
        "tratamento do *books_df*"
      ],
      "metadata": {
        "id": "zTM16MtN18J7"
      }
    },
    {
      "cell_type": "code",
      "source": [
        "first_df = clean_empty_rows(books_df, 'book_id')\n",
        "\n",
        "'''books_df = duplicate_size(file_path+'goodreads_books.json', books_df, colunas_desejadas)'''\n",
        "\n",
        "books_df['average_rating'] = pd.to_numeric(first_df['average_rating'], errors='coerce')\n",
        "\n",
        "print(books_df.head(1))"
      ],
      "metadata": {
        "id": "bOth40PUpxFB"
      },
      "execution_count": null,
      "outputs": []
    },
    {
      "cell_type": "code",
      "source": [
        "#transforma as informações dos autores em um dataframe\n",
        "authors_df = pd.read_json(file_path+'goodreads_book_authors.json', lines=True)\n",
        "print(authors_df.head(1))"
      ],
      "metadata": {
        "id": "E117bJgakQ8z"
      },
      "execution_count": null,
      "outputs": []
    },
    {
      "cell_type": "code",
      "source": [
        "#transforma as informações de generos em um dataframe\n",
        "genres_df = pd.read_json(file_path+'goodreads_book_genres_initial.json', lines=True)\n",
        "print(genres_df.head(10))\n"
      ],
      "metadata": {
        "id": "7psEOCZpkWde"
      },
      "execution_count": null,
      "outputs": []
    },
    {
      "cell_type": "code",
      "source": [
        "books_df = books_df.merge(\n",
        "    genres_df[['book_id', 'genres']],  # Seleciona apenas 'book_id' e 'genres'\n",
        "    on='book_id',  # A chave de junção\n",
        "    how='left'  # Mantém todos os livros, mesmo aqueles sem gênero\n",
        ")"
      ],
      "metadata": {
        "id": "qG-fYS3c1_s8"
      },
      "execution_count": null,
      "outputs": []
    },
    {
      "cell_type": "markdown",
      "source": [
        "### 2 - Análise exploratória e preparação dos dados para modelagem"
      ],
      "metadata": {
        "id": "Ql72nJUT7zSG"
      }
    },
    {
      "cell_type": "code",
      "source": [
        "unique_genres = ['history, historical fiction, biography', 'fiction', 'fantasy, paranormal'\n",
        " ,'mystery, thriller, crime', 'poetry', 'romance', 'non-fiction', 'children',\n",
        " 'young-adult', 'comics, graphic']\n"
      ],
      "metadata": {
        "id": "_nKypIXzffS9"
      },
      "execution_count": 8,
      "outputs": []
    },
    {
      "cell_type": "code",
      "source": [
        "genre_stats_df = genre_stats(genres_df, books_df, unique_genres)\n",
        "print(genre_stats_df)"
      ],
      "metadata": {
        "id": "YacowJzqyan7"
      },
      "execution_count": null,
      "outputs": []
    },
    {
      "cell_type": "code",
      "source": [
        "top_genre_per_user = calculate_top_genre_per_user(interactions_df, genres_df,books_df)\n",
        "print(top_genre_per_user.head(5))"
      ],
      "metadata": {
        "id": "Xz2whruKtTpF"
      },
      "execution_count": null,
      "outputs": []
    },
    {
      "cell_type": "code",
      "source": [
        "print(top_genre_per_user.head(5))"
      ],
      "metadata": {
        "id": "_dW0p1CRRnsH"
      },
      "execution_count": null,
      "outputs": []
    },
    {
      "cell_type": "code",
      "source": [
        "user_literary_age = calculate_user_literary_age(interactions_df, books_df)\n",
        "user_literary_age"
      ],
      "metadata": {
        "id": "YXnezWU6G0L3"
      },
      "execution_count": null,
      "outputs": []
    },
    {
      "cell_type": "markdown",
      "source": [
        "### Sugestão de livro e probabilidade de boa avaliação"
      ],
      "metadata": {
        "id": "xZhR8NkHp106"
      }
    },
    {
      "cell_type": "code",
      "source": [
        "user_id = int(input(\"Digite o seu ID de usuário: \"))\n",
        "\n",
        "\n",
        "best_book, user_genre = recommend_books(user_id, top_genre_per_user, genre_stats_df)\n",
        "print(f'Levando em consideração que seu gênero mais lido é o: {user_genre}\\nVocê deve curtir o {best_book}')\n"
      ],
      "metadata": {
        "id": "rRbdIpknxl-2"
      },
      "execution_count": null,
      "outputs": []
    },
    {
      "cell_type": "code",
      "source": [
        "book_id = int(input('Digite o ID do livro escolhido: '))\n",
        "book_genre = get_book_genre(book_id, genres_df)\n",
        "genre_count = count_similarbooks()\n",
        "#affinity = calculate_affinity(user_id, book_genre, book_period, user_genre_count_df, user_time_period_count_df)\n",
        "#print(f'Afinidade do usuário {user_id} para o livro: {affinity}')"
      ],
      "metadata": {
        "id": "Rl-NNVlJOdS2"
      },
      "execution_count": null,
      "outputs": []
    },
    {
      "cell_type": "code",
      "source": [],
      "metadata": {
        "id": "ZzgSzPx4YYNT"
      },
      "execution_count": null,
      "outputs": []
    }
  ]
}